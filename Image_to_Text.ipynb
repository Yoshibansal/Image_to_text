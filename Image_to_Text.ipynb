{
  "nbformat": 4,
  "nbformat_minor": 0,
  "metadata": {
    "colab": {
      "name": "Image_to_Text.ipynb",
      "provenance": [],
      "collapsed_sections": [],
      "authorship_tag": "ABX9TyProsD07XB6jibB4mCnAiND",
      "include_colab_link": true
    },
    "kernelspec": {
      "name": "python3",
      "display_name": "Python 3"
    }
  },
  "cells": [
    {
      "cell_type": "markdown",
      "metadata": {
        "id": "view-in-github",
        "colab_type": "text"
      },
      "source": [
        "<a href=\"https://colab.research.google.com/github/Yoshibansal/Image_to_text/blob/master/Image_to_Text.ipynb\" target=\"_parent\"><img src=\"https://colab.research.google.com/assets/colab-badge.svg\" alt=\"Open In Colab\"/></a>"
      ]
    },
    {
      "cell_type": "markdown",
      "metadata": {
        "id": "1FdTgco9AJbY",
        "colab_type": "text"
      },
      "source": [
        " **Image to text in just few lines using opencv and pytesseract**"
      ]
    },
    {
      "cell_type": "code",
      "metadata": {
        "id": "v5oYWLt0-2Uo",
        "colab_type": "code",
        "colab": {}
      },
      "source": [
        "!sudo apt install tesseract-ocr\n",
        "!pip install pytesseract"
      ],
      "execution_count": 0,
      "outputs": []
    },
    {
      "cell_type": "code",
      "metadata": {
        "id": "wd1px-yN_Guk",
        "colab_type": "code",
        "colab": {}
      },
      "source": [
        "import pytesseract\n",
        "import shutil\n",
        "import os\n",
        "import random\n",
        "try:\n",
        " from PIL import Image\n",
        "except ImportError:\n",
        " import Image"
      ],
      "execution_count": 0,
      "outputs": []
    },
    {
      "cell_type": "code",
      "metadata": {
        "id": "LGaAhAhE_JW4",
        "colab_type": "code",
        "colab": {}
      },
      "source": [
        "#for uploading the file in colab\n",
        "#Choose the file from your computer \n",
        "from google.colab import files\n",
        "uploaded = files.upload()\n",
        "\n",
        "#for getting the path\n",
        "a = list(uploaded.keys())\n",
        "import os\n",
        "path = os.path.abspath(a[0])"
      ],
      "execution_count": 0,
      "outputs": []
    },
    {
      "cell_type": "code",
      "metadata": {
        "id": "WHYd8DLd_URK",
        "colab_type": "code",
        "colab": {}
      },
      "source": [
        "#To the show the uploaded image\n",
        "\n",
        "import cv2\n",
        "from google.colab.patches import cv2_imshow\n",
        "img = cv2.imread(path)  #image path\n",
        "cv2_imshow(img)"
      ],
      "execution_count": 0,
      "outputs": []
    },
    {
      "cell_type": "code",
      "metadata": {
        "id": "PE9SlRH6_MTq",
        "colab_type": "code",
        "colab": {}
      },
      "source": [
        "#converting image to text\n",
        "\n",
        "image_path_in_colab = path\n",
        "extractedInformation = pytesseract.image_to_string(Image.open(image_path_in_colab))\n",
        "\n",
        "#printing the string extractedInformation\n",
        "print(extractedInformation)"
      ],
      "execution_count": 0,
      "outputs": []
    },
    {
      "cell_type": "code",
      "metadata": {
        "id": "aq8YEXGPBD_F",
        "colab_type": "code",
        "colab": {}
      },
      "source": [
        ""
      ],
      "execution_count": 0,
      "outputs": []
    }
  ]
}